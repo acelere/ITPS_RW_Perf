{
 "cells": [
  {
   "cell_type": "markdown",
   "metadata": {},
   "source": [
    "# RW Performance"
   ]
  },
  {
   "cell_type": "code",
   "execution_count": 68,
   "metadata": {
    "collapsed": true
   },
   "outputs": [],
   "source": [
    "import math\n",
    "import matplotlib.pyplot as plt\n",
    "import numpy as np\n",
    "import sys"
   ]
  },
  {
   "cell_type": "code",
   "execution_count": 69,
   "metadata": {
    "collapsed": true
   },
   "outputs": [],
   "source": [
    "#conversion constants\n",
    "m2ft = 3.28084 #1 meter to feet\n",
    "ft2m = 1/m2ft\n",
    "kt2ms = 0.51444444 #knots to meters per second\n",
    "ms2kt = 1/kt2ms\n",
    "RPM2rads = 1/60*2*math.pi\n",
    "C2K = 273.15 #add to go from C to K\n",
    "kgm32slug = 0.00237717/1.225 #\n",
    "\n",
    "#constants definitions for ISA Atmosphere\n",
    "TROPOSPHERE = 36089.24  #feet\n",
    "T0 = 288.15 #Kelvin\n",
    "p0 = 101325 #Pa\n",
    "L_m = -6.5/1000 #K/m\n",
    "L = L_m/m2ft #K/ft\n",
    "\n",
    "STRATOSPHERE = 65617 #feet\n",
    "Ts = 216.5 #Kelvin - temp at stratosphere\n",
    "ps = 22632.06 #Pa\n",
    "\n",
    "\n",
    "rho0 = 1.225 #kg/m3\n",
    "R = 287.053 #m2/s2/K\n",
    "ag_zero = -5.25588 *  R * L #in m/s2 -> gravity acceleration\n",
    "gama = 1.4 #adiabatic coefficient for air\n"
   ]
  },
  {
   "cell_type": "code",
   "execution_count": 70,
   "metadata": {
    "collapsed": true
   },
   "outputs": [],
   "source": [
    "#slide 18, second eq should be p0\n",
    "def getPressure(h):\n",
    "    #h in feet\n",
    "    #p in Pascals\n",
    "    if h <= TROPOSPHERE:\n",
    "        p = p0*(1+L/T0*h)**(-ag_zero/(R*L))\n",
    "    else:\n",
    "        p = ps*math.exp(-1*(h-TROPOSPHERE)/(R*Ts/ag_zero))\n",
    "    return p"
   ]
  },
  {
   "cell_type": "code",
   "execution_count": 71,
   "metadata": {
    "collapsed": true
   },
   "outputs": [],
   "source": [
    "# temperature ratio\n",
    "def theta(h):\n",
    "    #h in feet\n",
    "    if h <= TROPOSPHERE:\n",
    "        theta_calc = 1+(L/T0)*h\n",
    "    else:\n",
    "        theta_calc = Ts/T0\n",
    "    return theta_calc"
   ]
  },
  {
   "cell_type": "code",
   "execution_count": 72,
   "metadata": {
    "collapsed": true
   },
   "outputs": [],
   "source": [
    "# pressure ratio\n",
    "def delta(h):\n",
    "    #h in feet\n",
    "    delta_calc = getPressure(h)/p0\n",
    "    return delta_calc"
   ]
  },
  {
   "cell_type": "code",
   "execution_count": 73,
   "metadata": {
    "collapsed": true
   },
   "outputs": [],
   "source": [
    "def inv_delta(delta):\n",
    "    #return the altitude for that delta\n",
    "    idelta = (delta**(1/5.255863)-1)/(-0.00000687535)\n",
    "    return idelta"
   ]
  },
  {
   "cell_type": "code",
   "execution_count": 74,
   "metadata": {
    "collapsed": true
   },
   "outputs": [],
   "source": [
    "#density ratio\n",
    "def sigma(h):\n",
    "    #h in feet\n",
    "    sigma_calc = delta(h)/theta(h)\n",
    "    return sigma_calc"
   ]
  },
  {
   "cell_type": "code",
   "execution_count": 75,
   "metadata": {
    "collapsed": true
   },
   "outputs": [],
   "source": [
    "def inv_sigma(sigma):\n",
    "    isigma = ((sigma**0.235)-1)/(-0.00000687535)\n",
    "    return isigma"
   ]
  },
  {
   "cell_type": "code",
   "execution_count": 76,
   "metadata": {
    "collapsed": true
   },
   "outputs": [],
   "source": [
    "def getAltitude(p):\n",
    "    #p in Pascals\n",
    "    #h in feet\n",
    "    if p >= ps:\n",
    "        h = T0/L*((p/p0)**(-(R*L/ag_zero))-1)\n",
    "    else:\n",
    "        h = TROPOSPHERE+R*Ts/ag_zero*math.log(p/ps)\n",
    "    return h"
   ]
  },
  {
   "cell_type": "code",
   "execution_count": 77,
   "metadata": {
    "collapsed": true
   },
   "outputs": [],
   "source": [
    "def aSpdSound(T):\n",
    "    #T comes in Kelvin\n",
    "    if T >= 0:\n",
    "        return math.sqrt(gama*R*T)\n",
    "    else:\n",
    "        return 0"
   ]
  },
  {
   "cell_type": "code",
   "execution_count": 78,
   "metadata": {
    "collapsed": true
   },
   "outputs": [],
   "source": [
    "def dAltitude(h, t):\n",
    "    temp_constant = 0.00000687535\n",
    "    DA = (((((1-temp_constant*h)**5.2561)/((t+C2K)/T0))**0.235)-1)/(-temp_constant)\n",
    "    return DA"
   ]
  },
  {
   "cell_type": "markdown",
   "metadata": {},
   "source": [
    "test case\n",
    "<pre> alt  sigma  delta  theta  temp  press    dens     a    visc  k.visc  ratio\n",
    "  -1 1.0296 1.0367 1.0069 522.2 2193.8 0.0024472 1120.3 0.376 1.54E-4  7.30\n",
    "   0 1.0000 1.0000 1.0000 518.7 2116.2 0.0023769 1116.5 0.374 1.57E-4  7.10\n",
    "   1 0.9711 0.9644 0.9931 515.1 2040.9 0.0023081 1112.6 0.372 1.61E-4  6.91\n",
    "   2 0.9428 0.9298 0.9863 511.5 1967.7 0.0022409 1108.7 0.370 1.65E-4  6.72\n",
    "   3 0.9151 0.8963 0.9794 508.0 1896.7 0.0021752 1104.9 0.368 1.69E-4  6.54\n",
    "   4 0.8881 0.8637 0.9725 504.4 1827.7 0.0021109 1101.0 0.366 1.73E-4  6.36\n",
    "\n",
    "\n",
    "</pre>"
   ]
  },
  {
   "cell_type": "code",
   "execution_count": 79,
   "metadata": {
    "collapsed": true
   },
   "outputs": [],
   "source": [
    "def getOAT_ISA(h):\n",
    "    #given height, what is the ISA OAT?\n",
    "    OAT = ((T0*(1-0.00000687535*h)))-C2K\n",
    "    #outouts in C\n",
    "    return OAT"
   ]
  },
  {
   "cell_type": "code",
   "execution_count": 80,
   "metadata": {},
   "outputs": [
    {
     "name": "stdout",
     "output_type": "stream",
     "text": [
      "1000 0.97106417085834 0.9643875362106196 0.9931244145875356\n"
     ]
    }
   ],
   "source": [
    "h=1000\n",
    "print(h, sigma(h), delta(h), theta(h))"
   ]
  },
  {
   "cell_type": "code",
   "execution_count": 81,
   "metadata": {
    "scrolled": true
   },
   "outputs": [
    {
     "name": "stdout",
     "output_type": "stream",
     "text": [
      "altitude 0, Temp 288.15, delta 1.00, sigma 1.00, check -00.00\n",
      "altitude 2000, Temp 284.19, delta 0.93, sigma 0.94, check 2000.00\n",
      "altitude 4000, Temp 280.23, delta 0.86, sigma 0.89, check 4000.00\n",
      "altitude 6000, Temp 276.26, delta 0.80, sigma 0.84, check 6000.00\n",
      "altitude 8000, Temp 272.30, delta 0.74, sigma 0.79, check 8000.00\n",
      "altitude 10000, Temp 268.34, delta 0.69, sigma 0.74, check 10000.00\n",
      "altitude 12000, Temp 264.38, delta 0.64, sigma 0.69, check 12000.00\n",
      "altitude 14000, Temp 260.41, delta 0.59, sigma 0.65, check 14000.00\n",
      "altitude 16000, Temp 256.45, delta 0.54, sigma 0.61, check 16000.00\n",
      "altitude 18000, Temp 252.49, delta 0.50, sigma 0.57, check 18000.00\n"
     ]
    }
   ],
   "source": [
    "#pyformat.info for foramting info\n",
    "for h in range(0,20000,2000):\n",
    "    #print(h, theta(h)*T0, delta(h), sigma(h))\n",
    "    print('altitude {}, Temp {:06.2f}, delta {:01.2f}, sigma {:01.2f}, check {:06.2f}'.format(h, theta(h)*T0, delta(h), sigma(h), getAltitude(getPressure(h))))"
   ]
  },
  {
   "cell_type": "code",
   "execution_count": 82,
   "metadata": {
    "collapsed": true
   },
   "outputs": [],
   "source": [
    "#checking the numbers...\n",
    "h = np.arange(0, 50000, 1000)\n",
    "vtheta = np.vectorize(theta)\n",
    "vdelta = np.vectorize(delta)\n",
    "vsigma = np.vectorize(sigma)\n",
    "th = vtheta(h)\n",
    "delt = vdelta(h)\n",
    "sigm = vsigma(h)"
   ]
  },
  {
   "cell_type": "code",
   "execution_count": 83,
   "metadata": {},
   "outputs": [
    {
     "data": {
      "image/png": "[encoded data removed]",
      "text/plain": [
       "<matplotlib.figure.Figure at 0x7f9a919e0e10>"
      ]
     },
     "metadata": {},
     "output_type": "display_data"
    }
   ],
   "source": [
    "plt.plot(delt, h)\n",
    "plt.plot(th, h)\n",
    "plt.plot(sigm, h)\n",
    "plt.xlabel('delta and theta [--]')\n",
    "plt.ylabel('altitude [h]')\n",
    "plt.grid(True)\n",
    "plt.show()"
   ]
  },
  {
   "cell_type": "code",
   "execution_count": 84,
   "metadata": {
    "collapsed": true
   },
   "outputs": [],
   "source": [
    "def CAS(IAS, h):\n",
    "    #altitude in feet\n",
    "    #IAS in knots\n",
    "    qc = 0.5*(rho0*sigma(h))*(IAS*kt2ms)**2\n",
    "    CAS = (((2*gama)/(gama-1))*(p0/rho0)*((qc/p0+1)**((gama-1)/gama)-1))**(0.5)\n",
    "    CAS = CAS*ms2kt\n",
    "    return CAS"
   ]
  },
  {
   "cell_type": "code",
   "execution_count": 85,
   "metadata": {},
   "outputs": [
    {
     "data": {
      "text/plain": [
       "142.6617334227542"
      ]
     },
     "execution_count": 85,
     "metadata": {},
     "output_type": "execute_result"
    }
   ],
   "source": [
    "CAS(150,3000)"
   ]
  },
  {
   "cell_type": "code",
   "execution_count": 86,
   "metadata": {
    "collapsed": true
   },
   "outputs": [],
   "source": [
    "def TAS(IAS, h):\n",
    "    #altitude in feet\n",
    "    #IAS in knots\n",
    "    qc = 0.5*(rho0*sigma(h))*(IAS*kt2ms)**2\n",
    "    TAS = (((2*gama)/(gama-1))*(p0*delta(h)/(rho0*sigma(h)))*((qc/(p0*delta(h))+1)**((gama-1)/gama)-1))**(0.5)\n",
    "    TAS = TAS*ms2kt\n",
    "    return TAS"
   ]
  },
  {
   "cell_type": "code",
   "execution_count": 87,
   "metadata": {
    "collapsed": true,
    "scrolled": true
   },
   "outputs": [],
   "source": [
    "def EAS(IAS, h):\n",
    "    #altitude in feet\n",
    "    #IAS in knots\n",
    "    calcTAS = TAS(IAS, h)\n",
    "    EAS = calcTAS*sigma(h)**0.5\n",
    "    return EAS"
   ]
  },
  {
   "cell_type": "markdown",
   "metadata": {},
   "source": [
    "# checking results..."
   ]
  },
  {
   "cell_type": "code",
   "execution_count": 88,
   "metadata": {},
   "outputs": [
    {
     "name": "stdout",
     "output_type": "stream",
     "text": [
      "height 0, IAS 150, CAS 149, TAS 149, EAS 149\n",
      "height 10000, IAS 150, CAS 128, TAS 149, EAS 128\n",
      "height 20000, IAS 150, CAS 109, TAS 149, EAS 109\n",
      "height 30000, IAS 150, CAS 092, TAS 149, EAS 091\n",
      "height 40000, IAS 150, CAS 074, TAS 149, EAS 074\n"
     ]
    }
   ],
   "source": [
    "for h in range(0,50000,10000):\n",
    "    print('height {}, IAS {:03.0f}, CAS {:03.0f}, TAS {:03.0f}, EAS {:03.0f}'.format(h, 150, CAS(150,h), TAS(150,h), EAS(150,h)))"
   ]
  },
  {
   "cell_type": "code",
   "execution_count": 89,
   "metadata": {},
   "outputs": [
    {
     "name": "stdout",
     "output_type": "stream",
     "text": [
      "700.2900533179929\n"
     ]
    }
   ],
   "source": [
    "p1=1013\n",
    "mach=0.9\n",
    "pp=p1*(1+((gama-1)/2)*mach**2)**(gama/(gama-1))\n",
    "print(pp-p1)"
   ]
  },
  {
   "cell_type": "code",
   "execution_count": 90,
   "metadata": {
    "collapsed": true
   },
   "outputs": [],
   "source": [
    "def Ct(T,rho,A,omega,R):\n",
    "    Ct = T/(rho*A*(omega*R)**2)\n",
    "    return Ct"
   ]
  },
  {
   "cell_type": "code",
   "execution_count": 91,
   "metadata": {
    "collapsed": true
   },
   "outputs": [],
   "source": [
    "def Cp(P,rho,A,omega,R):\n",
    "    Cp = P/(rho*A*(omega*R)**3)\n",
    "    return Cp"
   ]
  },
  {
   "cell_type": "markdown",
   "metadata": {
    "collapsed": true
   },
   "source": [
    "LaTex entry:\n",
    "$e^{i/pi} + 1 =0$\n",
    "\n",
    "Let's define a few parameters for our helicopter"
   ]
  },
  {
   "cell_type": "code",
   "execution_count": 92,
   "metadata": {
    "collapsed": true
   },
   "outputs": [],
   "source": [
    "#helicopter design values that will be checked\n",
    "weight_range = [4000, 4500, 5000] #lbs - test weights - from helicopter manual\n",
    "altitude_range = [2000, 5000, 10000] #ft - test altitudes, also from manual\n",
    "NR_std = 400 #RPM - governed RPM\n",
    "ISA_range = np.array([-15, -5, 0, 5, 15, 30]) #C - delta ISA that we want"
   ]
  },
  {
   "cell_type": "code",
   "execution_count": 93,
   "metadata": {},
   "outputs": [
    {
     "name": "stdout",
     "output_type": "stream",
     "text": [
      "13021.993578633908\n"
     ]
    }
   ],
   "source": [
    "#test site limitations\n",
    "weight_test_min = 4200 #lbs\n",
    "weight_test_max = 5000 #lbs\n",
    "altitude_test_min = 6000 #ft\n",
    "altitude_test_max = 12000 #ft\n",
    "OAT_test_min = 0 #C\n",
    "OAT_test_max = 30 #C\n",
    "d_altitude_test_min = dAltitude(altitude_test_min, OAT_test_min)\n",
    "d_altitude_test_max = dAltitude(altitude_test_max, OAT_test_min)\n",
    "print(d_altitude_test_max)"
   ]
  },
  {
   "cell_type": "markdown",
   "metadata": {},
   "source": [
    "$\\omega = \\frac{NR_{test}}{NR_{std}}$"
   ]
  },
  {
   "cell_type": "code",
   "execution_count": 94,
   "metadata": {
    "collapsed": true
   },
   "outputs": [],
   "source": [
    "NR_test = 103  #enter percentage here.\n",
    "NR_test = NR_test / (100) * NR_std #this transforms to RPM- it can be a different number\n",
    "omega_small = NR_test/NR_std"
   ]
  },
  {
   "cell_type": "markdown",
   "metadata": {},
   "source": [
    "Let's calculate some values of $\\sigma\\omega^2$ for the desired range"
   ]
  },
  {
   "cell_type": "code",
   "execution_count": 95,
   "metadata": {},
   "outputs": [
    {
     "name": "stdout",
     "output_type": "stream",
     "text": [
      "min  3788 lbs / max  7096 lbs\n"
     ]
    }
   ],
   "source": [
    "theta_range = np.array([])\n",
    "sigma_req_max = 0\n",
    "sigma_req_min = 1\n",
    "for altitude in altitude_range:\n",
    "    temp_OAT = getOAT_ISA(altitude)\n",
    "    temp_OAT_range = ISA_range+temp_OAT\n",
    "    theta_range = (temp_OAT_range+C2K)/T0\n",
    "    temp_array=np.array([])\n",
    "    temp_array=delta(altitude)/theta_range\n",
    "    temp_max = temp_array.max()\n",
    "    temp_min = temp_array.min()\n",
    "    if sigma_req_max < temp_max: \n",
    "        sigma_req_max = temp_max\n",
    "    if sigma_req_min > temp_min: \n",
    "        sigma_req_min = temp_min\n",
    "W_over_sigma_omega_sq_req_min = min(weight_range)/(sigma_req_max*omega_small**2)\n",
    "W_over_sigma_omega_sq_req_max = max(weight_range)/(sigma_req_min*omega_small**2)\n",
    "print('min {:5.0f} lbs / max {:5.0f} lbs'\n",
    "      .format(W_over_sigma_omega_sq_req_min, W_over_sigma_omega_sq_req_max))"
   ]
  },
  {
   "cell_type": "markdown",
   "metadata": {},
   "source": [
    "Let's calculate some values of $\\sigma\\omega^2$ for the available range"
   ]
  },
  {
   "cell_type": "code",
   "execution_count": 96,
   "metadata": {},
   "outputs": [
    {
     "name": "stdout",
     "output_type": "stream",
     "text": [
      "min  3978 lbs / max  7096 lbs\n"
     ]
    }
   ],
   "source": [
    "W_over_sigma_omega_sq_avail_min = weight_test_min/(sigma_req_max*omega_small**2)\n",
    "W_over_sigma_omega_sq_avail_max = weight_test_max/(sigma_req_min*omega_small**2)\n",
    "print('min {:5.0f} lbs / max {:5.0f} lbs'\n",
    "      .format(W_over_sigma_omega_sq_avail_min, W_over_sigma_omega_sq_avail_max))"
   ]
  },
  {
   "cell_type": "code",
   "execution_count": 97,
   "metadata": {},
   "outputs": [
    {
     "name": "stdout",
     "output_type": "stream",
     "text": [
      "4000.0 7000.0\n"
     ]
    }
   ],
   "source": [
    "#Now, let's pick a test range that fits\n",
    "W_over_sigma_omega_sq_test_min = W_over_sigma_omega_sq_avail_min + (500-W_over_sigma_omega_sq_avail_min %500)\n",
    "W_over_sigma_omega_sq_test_max = W_over_sigma_omega_sq_avail_max - (W_over_sigma_omega_sq_avail_max %500)\n",
    "print(W_over_sigma_omega_sq_test_min , W_over_sigma_omega_sq_test_max)\n",
    "W_step = 500\n",
    "W_over_sigma_omega_sq_test_range = np.arange(W_over_sigma_omega_sq_test_min,\n",
    "                                            W_over_sigma_omega_sq_test_max,\n",
    "                                            W_step)\n",
    "W_test = np.linspace(weight_test_min, weight_test_max, 5)"
   ]
  },
  {
   "cell_type": "code",
   "execution_count": 98,
   "metadata": {
    "collapsed": true
   },
   "outputs": [],
   "source": [
    "#and calculate sigma for each condition\n",
    "outer_counter = 0\n",
    "sigma_test = np.ndarray(shape = (len(W_over_sigma_omega_sq_test_range), len(W_test)))\n",
    "daltitute_test = np.ndarray(shape = (len(W_over_sigma_omega_sq_test_range), len(W_test)))\n",
    "\n",
    "for WOSS in W_over_sigma_omega_sq_test_range:\n",
    "    #print(outer_counter, WOSS)\n",
    "    inner_counter = 0\n",
    "    for test_weight in W_test:\n",
    "        sigma_test[outer_counter][inner_counter]=test_weight/(WOSS*(omega_small**2))\n",
    "        daltitute_test[outer_counter][inner_counter]=inv_sigma(sigma_test[outer_counter][inner_counter])\n",
    "        #print(test_weight, sigma_test[outer_counter][inner_counter], daltitute_test[outer_counter][inner_counter])\n",
    "        inner_counter = inner_counter + 1\n",
    "    outer_counter = outer_counter + 1    "
   ]
  },
  {
   "cell_type": "code",
   "execution_count": 99,
   "metadata": {
    "scrolled": true
   },
   "outputs": [
    {
     "data": {
      "image/png": "[encoded data removed]",
      "text/plain": [
       "<matplotlib.figure.Figure at 0x7f9a980a45c0>"
      ]
     },
     "metadata": {},
     "output_type": "display_data"
    }
   ],
   "source": [
    "outer_counter = 0\n",
    "for WOSS in W_over_sigma_omega_sq_test_range:\n",
    "    plt.plot(W_test, daltitute_test[outer_counter][:], label = WOSS)\n",
    "    #plt.plot(W_test, daltitute_test[outer_counter][:], label = 'Wref {:5.0f}'.format(WOSS))\n",
    "    outer_counter = outer_counter + 1\n",
    "\n",
    "plt.xlabel('AUW [lbs]')\n",
    "plt.ylabel('density altitude [ft]')\n",
    "plt.legend()\n",
    "plt.grid(True)\n",
    "plt.gca().set_ylim(bottom=0)\n",
    "#plt.Axes.set_ylim(bottom = 0)\n",
    "plt.show()"
   ]
  },
  {
   "cell_type": "markdown",
   "metadata": {},
   "source": [
    "With this graph, you can look up which density altitude to fly at the weight the helicopter is, for a given $\\frac{W}{\\sigma\\omega^2}$"
   ]
  },
  {
   "cell_type": "markdown",
   "metadata": {
    "collapsed": true
   },
   "source": [
    "Now, let's plot the graphs for $\\frac{W}{\\delta}$"
   ]
  },
  {
   "cell_type": "code",
   "execution_count": 100,
   "metadata": {},
   "outputs": [
    {
     "name": "stdout",
     "output_type": "stream",
     "text": [
      "min  4302 lbs / max  7271 lbs\n"
     ]
    }
   ],
   "source": [
    "delta_req_max = 0\n",
    "delta_req_min = 2\n",
    "for altitude in altitude_range:\n",
    "    if delta_req_max < delta(altitude): \n",
    "        delta_req_max = delta(altitude)\n",
    "    if delta_req_min > delta(altitude): \n",
    "        delta_req_min = delta(altitude)\n",
    "\n",
    "W_over_delta_req_min = min(weight_range)/(delta_req_max)\n",
    "W_over_delta_req_max = max(weight_range)/(delta_req_min)\n",
    "print('min {:5.0f} lbs / max {:5.0f} lbs'\n",
    "      .format(W_over_delta_req_min, W_over_delta_req_max))"
   ]
  },
  {
   "cell_type": "markdown",
   "metadata": {},
   "source": [
    "Let's calculate some values of $\\frac{W}{\\delta}$ for the available range"
   ]
  },
  {
   "cell_type": "code",
   "execution_count": 101,
   "metadata": {},
   "outputs": [
    {
     "name": "stdout",
     "output_type": "stream",
     "text": [
      "available: min  4517 lbs / max  7271 lbs\n"
     ]
    }
   ],
   "source": [
    "W_over_delta_avail_min = weight_test_min/(delta_req_max)\n",
    "W_over_delta_avail_max = weight_test_max/(delta_req_min)\n",
    "print('available: min {:5.0f} lbs / max {:5.0f} lbs'\n",
    "      .format(W_over_delta_avail_min, W_over_delta_avail_max))"
   ]
  },
  {
   "cell_type": "code",
   "execution_count": 102,
   "metadata": {},
   "outputs": [
    {
     "name": "stdout",
     "output_type": "stream",
     "text": [
      "test range  5000.0 7000.0\n"
     ]
    }
   ],
   "source": [
    "#Now, let's pick a test range that fits\n",
    "W_over_delta_test_min = W_over_delta_avail_min + (500-W_over_delta_avail_min %500)\n",
    "W_over_delta_test_max = W_over_delta_avail_max - (W_over_delta_avail_max %500)\n",
    "print('test range ',W_over_delta_test_min , W_over_delta_test_max)\n",
    "W_step = 500\n",
    "W_over_delta_test_range = np.arange(W_over_delta_test_min,\n",
    "                                            W_over_delta_test_max,\n",
    "                                            W_step)\n",
    "#dont need to define weights, they were already defined.\n",
    "#If you want to cjange, just redefine below\n",
    "#W_test = np.linspace(weight_test_min, weight_test_max, 5)"
   ]
  },
  {
   "cell_type": "code",
   "execution_count": 103,
   "metadata": {
    "collapsed": true
   },
   "outputs": [],
   "source": [
    "#and calculate omega_small sqrt theta for each condition\n",
    "outer_counter = 0\n",
    "delta_test = np.ndarray(shape = (len(W_over_delta_test_range), len(W_test)))\n",
    "daltitute_test = np.ndarray(shape = (len(W_over_delta_test_range), len(W_test)))\n",
    "\n",
    "for WOD in W_over_delta_test_range:\n",
    "    #print(outer_counter, WOSS)\n",
    "    inner_counter = 0\n",
    "    for test_weight in W_test:\n",
    "        delta_test[outer_counter][inner_counter]=test_weight/(WOD)\n",
    "        daltitute_test[outer_counter][inner_counter]=inv_delta(delta_test[outer_counter][inner_counter])\n",
    "        #print(test_weight, sigma_test[outer_counter][inner_counter], daltitute_test[outer_counter][inner_counter])\n",
    "        inner_counter = inner_counter + 1\n",
    "    outer_counter = outer_counter + 1    "
   ]
  },
  {
   "cell_type": "code",
   "execution_count": 104,
   "metadata": {},
   "outputs": [
    {
     "data": {
      "image/png": "[encoded data removed]",
      "text/plain": [
       "<matplotlib.figure.Figure at 0x7f9a918dd160>"
      ]
     },
     "metadata": {},
     "output_type": "display_data"
    }
   ],
   "source": [
    "outer_counter = 0\n",
    "for WOD in W_over_delta_test_range:\n",
    "    plt.plot(W_test, daltitute_test[outer_counter][:], label = WOD)\n",
    "    #plt.plot(W_test, daltitute_test[outer_counter][:], label = 'Wref {:5.0f}'.format(WOSS))\n",
    "    outer_counter = outer_counter + 1\n",
    "\n",
    "plt.xlabel('AUW [lbs]')\n",
    "plt.ylabel('density altitude [ft]')\n",
    "plt.legend()\n",
    "plt.grid(True)\n",
    "plt.gca().set_ylim(bottom=0)\n",
    "#plt.Axes.set_ylim(bottom = 0)\n",
    "plt.show()"
   ]
  },
  {
   "cell_type": "markdown",
   "metadata": {
    "collapsed": true
   },
   "source": [
    "This is the $\\frac{W}{\\delta}$ graph that you use to find a suitable altitude given the current aircraft weight (for a chosen $\\frac{W}{\\delta}$ )"
   ]
  },
  {
   "cell_type": "markdown",
   "metadata": {},
   "source": [
    "Now, let's look at the data reduction"
   ]
  },
  {
   "cell_type": "code",
   "execution_count": 105,
   "metadata": {},
   "outputs": [],
   "source": [
    "weights_flown = np.array([4400, 4500, 4800, 4900]) #in this case, lbs\n",
    "altitudes_flown = np.array([6000, 5750, 4000, 3500])\n",
    "OATs_flown = np.array([20, 25, 27, 31])\n",
    "NR_flown = np.array([103, 103, 103, 103])\n",
    "torque_flown = np.array([78, 82, 85, 87])\n",
    "if len(weights_flown) != len(altitudes_flown):\n",
    "    print('check weights and altitudes arrays')\n",
    "    sys.exit('array size mismatch')\n",
    "if len(OATs_flown) != len(NR_flown):\n",
    "    print('check OAT and NR_flown arrays')\n",
    "    sys.exit('array size mismatch')\n",
    "if len(torque_flown) != len(NR_flown):\n",
    "    print('check torque and NR_flown arrays')\n",
    "    sys.exit('array size mismatch')"
   ]
  },
  {
   "cell_type": "code",
   "execution_count": 106,
   "metadata": {
    "collapsed": true
   },
   "outputs": [],
   "source": [
    "#calculate actual W/sigma omega sq\n",
    "theta_flown = (OATs_flown+C2K)/T0\n",
    "delta_flown = vdelta(altitudes_flown) #using the vectorized delta function\n",
    "sigma_flown = delta_flown/theta_flown"
   ]
  },
  {
   "cell_type": "code",
   "execution_count": 107,
   "metadata": {},
   "outputs": [
    {
     "name": "stdout",
     "output_type": "stream",
     "text": [
      "[ 0.78770938  0.78182548  0.82913266  0.83354556]\n",
      "0.801377775617 1.01735207357 0.787709384424\n"
     ]
    }
   ],
   "source": [
    "print(sigma_flown)\n",
    "print(delta_flown[0], theta_flown[0], delta_flown[0]/theta_flown[0])"
   ]
  },
  {
   "cell_type": "code",
   "execution_count": 108,
   "metadata": {
    "collapsed": true
   },
   "outputs": [],
   "source": [
    "#TODO - put all aircraft data on a dedicated cell\n",
    "ESHP_nominal = 800 #SHP for all engines - net, if there are losses, need to subtract\n",
    "Kq = 1\n",
    "#TODO - with variable NR, Kq needs to be variable too\n",
    "ESHP_flown = torque_flown*Kq*NR_flown\n",
    "ESHP_ref_flown = ESHP_flown/sigma_flown\n",
    "NR_flown_RPM = NR_flown / (100) * NR_std #this transforms to RPM- it can be a different number\n",
    "omega_small = NR_flown_RPM/NR_std"
   ]
  },
  {
   "cell_type": "code",
   "execution_count": 109,
   "metadata": {},
   "outputs": [
    {
     "name": "stdout",
     "output_type": "stream",
     "text": [
      "[ 1.03  1.03  1.03  1.03]\n"
     ]
    }
   ],
   "source": [
    "print(omega_small)"
   ]
  },
  {
   "cell_type": "code",
   "execution_count": 110,
   "metadata": {
    "collapsed": true
   },
   "outputs": [],
   "source": [
    "W_over_sigma_omega_sq_flown = weights_flown/(sigma_flown*omega_small**2)"
   ]
  },
  {
   "cell_type": "code",
   "execution_count": 111,
   "metadata": {
    "collapsed": true
   },
   "outputs": [],
   "source": [
    "rotor_radius = 5 #m\n",
    "disk_area = math.pi*rotor_radius**2\n",
    "rho_flown = rho0*kgm32slug*sigma_flown #this is in English Units\n",
    "Cp_flown = Cp(ESHP_flown, rho_flown, disk_area, NR_flown_RPM, rotor_radius)"
   ]
  },
  {
   "cell_type": "code",
   "execution_count": 112,
   "metadata": {},
   "outputs": [
    {
     "name": "stdout",
     "output_type": "stream",
     "text": [
      "[  6.24905036e-06   6.61895573e-06   6.46964340e-06   6.58681325e-06]\n"
     ]
    }
   ],
   "source": [
    "print(Cp_flown)"
   ]
  },
  {
   "cell_type": "code",
   "execution_count": 113,
   "metadata": {
    "collapsed": true
   },
   "outputs": [],
   "source": [
    "Ct_flown = Ct(weights_flown, rho_flown, disk_area, NR_flown_RPM, rotor_radius)"
   ]
  },
  {
   "cell_type": "code",
   "execution_count": 114,
   "metadata": {
    "scrolled": true
   },
   "outputs": [
    {
     "data": {
      "image/png": "[encoded data removed]",
      "text/plain": [
       "<matplotlib.figure.Figure at 0x7f9a915f26a0>"
      ]
     },
     "metadata": {},
     "output_type": "display_data"
    }
   ],
   "source": [
    "plt.plot(W_over_sigma_omega_sq_flown, ESHP_ref_flown, 'ro', label = 'FT Data')\n",
    "plt.xlabel('Wref [lb]')\n",
    "plt.ylabel('ESHP_ref [SHP]')\n",
    "plt.legend()\n",
    "plt.grid(True)\n",
    "#plt.gca().set_ylim(bottom=0)\n",
    "#plt.Axes.set_ylim(bottom = 0)\n",
    "fit_line = np.polyfit(W_over_sigma_omega_sq_flown, ESHP_ref_flown, 1)\n",
    "fit_fn = np.poly1d(fit_line)\n",
    "plt.plot(W_over_sigma_omega_sq_flown, fit_fn(W_over_sigma_omega_sq_flown), '--k', label = 'Line Fit')\n",
    "plt.show()"
   ]
  },
  {
   "cell_type": "code",
   "execution_count": 115,
   "metadata": {
    "scrolled": true
   },
   "outputs": [
    {
     "data": {
      "image/png": "[encoded data removed]",
      "text/plain": [
       "<matplotlib.figure.Figure at 0x7f9a91a35470>"
      ]
     },
     "metadata": {},
     "output_type": "display_data"
    }
   ],
   "source": [
    "plt.plot(Ct_flown, Cp_flown, 'bo', label = 'FT Data')\n",
    "plt.xlabel('Ct [--]')\n",
    "plt.ylabel('Cp [--]')\n",
    "plt.legend()\n",
    "plt.grid(True)\n",
    "#plt.gca().set_ylim(bottom=0)\n",
    "#plt.Axes.set_ylim(bottom = 0)\n",
    "fit_line = np.polyfit(Ct_flown, Cp_flown, 2)\n",
    "fit_fn = np.poly1d(fit_line)\n",
    "temp_array = np.linspace(Ct_flown.min(), Ct_flown.max(), 100)\n",
    "plt.plot(temp_array, fit_fn(temp_array), '--k', label = 'Line Fit')\n",
    "plt.show()"
   ]
  },
  {
   "cell_type": "code",
   "execution_count": null,
   "metadata": {
    "collapsed": true
   },
   "outputs": [],
   "source": []
  }
 ],
 "metadata": {
  "kernelspec": {
   "display_name": "Python 3",
   "language": "python",
   "name": "python3"
  },
  "language_info": {
   "codemirror_mode": {
    "name": "ipython",
    "version": 3
   },
   "file_extension": ".py",
   "mimetype": "text/x-python",
   "name": "python",
   "nbconvert_exporter": "python",
   "pygments_lexer": "ipython3",
   "version": "3.6.2"
  }
 },
 "nbformat": 4,
 "nbformat_minor": 2
}
